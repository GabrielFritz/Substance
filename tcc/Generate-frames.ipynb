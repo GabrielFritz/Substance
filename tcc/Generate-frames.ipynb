{
 "cells": [
  {
   "cell_type": "code",
   "execution_count": 1,
   "metadata": {},
   "outputs": [
    {
     "data": {
      "text/plain": [
       "0"
      ]
     },
     "execution_count": 1,
     "metadata": {},
     "output_type": "execute_result"
    }
   ],
   "source": [
    "import os\n",
    "from os import listdir\n",
    "\n",
    "FRAMES_PATH = 'data/frames/'\n",
    "VIDEOS_PATH = 'data/videos/'\n",
    "\n",
    "os.system('mkdir -p {}'.format(FRAMES_PATH))"
   ]
  },
  {
   "cell_type": "code",
   "execution_count": 2,
   "metadata": {},
   "outputs": [],
   "source": [
    "videos = listdir(VIDEOS_PATH)\n",
    "videos = sorted([v for v in videos if v.split('.')[-1] == 'mp4'])"
   ]
  },
  {
   "cell_type": "code",
   "execution_count": 3,
   "metadata": {},
   "outputs": [],
   "source": [
    "def save_frames(video):\n",
    "    video_name = video.replace(' ', '_')\n",
    "    if video.split('.')[-1] == 'mp4':\n",
    "        video_path = '{}{}'.format(FRAMES_PATH, video_name)\n",
    "        os.system('mkdir -p {}'.format(video_path))\n",
    "        os.system('ffmpeg -vsync 0 -i {}\"{}\" {}/\"{}\"-frame-%04d.jpg'.format(VIDEOS_PATH, video, video_path, video_name))"
   ]
  },
  {
   "cell_type": "code",
   "execution_count": 4,
   "metadata": {},
   "outputs": [],
   "source": [
    "for video in videos:\n",
    "    save_frames(video)"
   ]
  },
  {
   "cell_type": "code",
   "execution_count": 6,
   "metadata": {},
   "outputs": [],
   "source": [
    "save_frames(videos[7])"
   ]
  }
 ],
 "metadata": {
  "kernelspec": {
   "display_name": "Python 2",
   "language": "python",
   "name": "python2"
  },
  "language_info": {
   "codemirror_mode": {
    "name": "ipython",
    "version": 2
   },
   "file_extension": ".py",
   "mimetype": "text/x-python",
   "name": "python",
   "nbconvert_exporter": "python",
   "pygments_lexer": "ipython2",
   "version": "2.7.15"
  }
 },
 "nbformat": 4,
 "nbformat_minor": 2
}
