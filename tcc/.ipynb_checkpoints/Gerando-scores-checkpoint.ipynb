{
 "cells": [
  {
   "cell_type": "code",
   "execution_count": 51,
   "metadata": {},
   "outputs": [],
   "source": [
    "%matplotlib inline\n",
    "import numpy as np\n",
    "from scipy import stats\n",
    "import pickle\n",
    "import seaborn as sns\n",
    "import os\n",
    "import matplotlib.pyplot as plt\n",
    "\n",
    "plt.rcParams['figure.figsize'] = [30., 10.]\n",
    "PKL_OBJ_PATH = 'data/obj/'\n",
    "os.system('mkdir -p {}'.format(PKL_OBJ_PATH));\n",
    "TMP_PATH = 'data/tmp/'\n",
    "FRAMES_PATH = 'data/frames/'\n",
    "video_data = load_obj('video_data')"
   ]
  },
  {
   "cell_type": "code",
   "execution_count": 52,
   "metadata": {},
   "outputs": [],
   "source": [
    "def save_obj(obj, name ):\n",
    "    with open(PKL_OBJ_PATH+ name + '.pkl', 'wb') as f:\n",
    "        pickle.dump(obj, f, pickle.HIGHEST_PROTOCOL)\n",
    "\n",
    "def load_obj(name ):\n",
    "    with open(PKL_OBJ_PATH + name + '.pkl', 'rb') as f:\n",
    "        return pickle.load(f)"
   ]
  },
  {
   "cell_type": "code",
   "execution_count": 60,
   "metadata": {},
   "outputs": [],
   "source": [
    "def gte_mean(scores):\n",
    "    mean = np.mean(scores)\n",
    "    return [s if s >= mean else 0 for s in scores]\n",
    "\n",
    "def lt_mean(scores):\n",
    "    mean = np.mean(scores)\n",
    "    return [0 if s > mean else s for s in scores]\n",
    "\n",
    "def kezhang(idx):\n",
    "    return video_data['bscores'][idx]\n",
    "\n",
    "def gt_meanp2std(scores):\n",
    "    mean = np.mean(scores)\n",
    "    std = np.std(scores)\n",
    "    return [s if s > mean+2*std else 0 for s in scores]"
   ]
  },
  {
   "cell_type": "code",
   "execution_count": 104,
   "metadata": {},
   "outputs": [],
   "source": [
    "def plot_scores(idx, modifier=None, save=False, filename=None):\n",
    "    video_name = video_data['video_names'][idx].replace(' ', '_')\n",
    "    scores = list(video_data['scores'][idx]/np.max(video_data['scores'][idx]))\n",
    "    x = list(range(len(scores)))\n",
    "    \n",
    "    if modifier is kezhang:\n",
    "        y = modifier(idx)\n",
    "    elif modifier is not None:\n",
    "        y = modifier(scores)\n",
    "    \n",
    "    fig = plt.figure()\n",
    "    plt.tick_params(labelsize=30)\n",
    "    plt.plot([-1] + x + [len(scores)], [0.0] + scores + [0.0], color='red', linewidth=5.0)\n",
    "    if modifier is not None:\n",
    "        plt.bar([-1] + x + [len(y)], [0.0] + y + [0.0], width=1.0, color='red')\n",
    "    \n",
    "    if save:\n",
    "        plt.savefig('graphics/' + filename)\n",
    "        plt.close(fig)\n",
    "    else:\n",
    "        plt.show()"
   ]
  },
  {
   "cell_type": "code",
   "execution_count": 101,
   "metadata": {},
   "outputs": [],
   "source": [
    "def save(idx, modifier=None):\n",
    "    \n",
    "    scores = video_data['scores'][idx]\n",
    "    \n",
    "    if modifier is not None:\n",
    "        scores = modifier(scores)\n",
    "    else:\n",
    "        scores = video_data['bscores'][idx]\n",
    "\n",
    "    video = video_data['video_names'][idx]\n",
    "    video_name = video.replace(' ', '_') + '.mp4'\n",
    "    os.system(\"mkdir -p {}\".format(TMP_PATH))\n",
    "    \n",
    "    frames_path = '{}{}'.format(FRAMES_PATH, video_name)\n",
    "    \n",
    "    count = 1\n",
    "    for i, score in enumerate(scores):\n",
    "        if score == 1:\n",
    "            os.system(\"cp {}/{}-frame-{:04d}.jpg {}/{}-frame-{:04d}.jpg\".format(frames_path, video_name,i+1, TMP_PATH, video_name, count))\n",
    "            count+=1\n",
    "    os.system(\"mkdir -p summaries/{}\".format(video_name))\n",
    "    ffmpeg = \"ffmpeg -r 30 -i {}/{}-frame-%04d.jpg -vcodec mpeg4 -y summaries/{}/{}.mp4\".format(TMP_PATH, video_name, video_name, modifier.__name__ if modifier is not None else 'kezhang')\n",
    "    os.system(ffmpeg)\n",
    "    os.system(\"rm -rf {}\".format(TMP_PATH))\n",
    "\n",
    "def save_all_styles(idx, modifiers=[]):\n",
    "\n",
    "    save(idx)\n",
    "    for modifier in modifiers:\n",
    "        save(idx, modifier)\n",
    "\n",
    "def save_all_summaries(indexes, modifiers=[], subset=None):\n",
    "        \n",
    "    for idx in indexes:\n",
    "        video_name = video_data['video_names'][idx]\n",
    "        if subset is not None and video_name in subset:\n",
    "            print(video_name)\n",
    "            if '[NW]' not in video_name:\n",
    "                save_all_styles(idx, modifiers)"
   ]
  },
  {
   "cell_type": "markdown",
   "metadata": {},
   "source": [
    "styles = [greaterthan_mean,\n",
    "          lowerthan_mean,\n",
    "          mode]\n",
    "subset = ['Air_Force_One',\n",
    "          'Base jumping',\n",
    "          'Cockpit_Landing',\n",
    "          'Eiffel Tower',\n",
    "          'Fire Domino',\n",
    "          'Scuba',\n",
    "          'Uncut_Evening_Flight',\n",
    "          'Valparaiso_Downhill']\n",
    "save_all_summaries(range(25), styles, subset=subset)"
   ]
  },
  {
   "cell_type": "code",
   "execution_count": 102,
   "metadata": {},
   "outputs": [],
   "source": [
    "name2idx = {n:i for i,n in enumerate(video_data['video_names'])}"
   ]
  },
  {
   "cell_type": "code",
   "execution_count": 107,
   "metadata": {},
   "outputs": [],
   "source": [
    "plot_scores(name2idx['Uncut_Evening_Flight'], save=True, filename='Uncut_Evening_Flight')"
   ]
  },
  {
   "cell_type": "code",
   "execution_count": null,
   "metadata": {},
   "outputs": [],
   "source": []
  }
 ],
 "metadata": {
  "kernelspec": {
   "display_name": "Python 2",
   "language": "python",
   "name": "python2"
  },
  "language_info": {
   "codemirror_mode": {
    "name": "ipython",
    "version": 2
   },
   "file_extension": ".py",
   "mimetype": "text/x-python",
   "name": "python",
   "nbconvert_exporter": "python",
   "pygments_lexer": "ipython2",
   "version": "2.7.15"
  }
 },
 "nbformat": 4,
 "nbformat_minor": 2
}
