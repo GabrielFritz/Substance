{
 "cells": [
  {
   "cell_type": "code",
   "execution_count": 9,
   "metadata": {},
   "outputs": [],
   "source": [
    "import numpy as np\n",
    "from scipy import stats\n",
    "import pickle\n",
    "import seaborn as sns\n",
    "import os\n",
    "%matplotlib inline\n",
    "\n",
    "PKL_OBJ_PATH = 'data/obj/'\n",
    "os.system('mkdir -p {}'.format(PKL_OBJ_PATH))\n",
    "\n",
    "def save_obj(obj, name ):\n",
    "    with open(PKL_OBJ_PATH+ name + '.pkl', 'wb') as f:\n",
    "        pickle.dump(obj, f, pickle.HIGHEST_PROTOCOL)\n",
    "\n",
    "def load_obj(name ):\n",
    "    with open(PKL_OBJ_PATH + name + '.pkl', 'rb') as f:\n",
    "        return pickle.load(f)\n",
    "\n",
    "def greaterthan_mean(scores):\n",
    "    mean = np.mean(scores)\n",
    "    return [1 if s > mean else 0 for s in scores]\n",
    "\n",
    "def lowerthan_mean(scores):\n",
    "    mean = np.mean(scores)\n",
    "    return [0 if s > mean else 1 for s in scores]\n",
    "\n",
    "def mode(scores):\n",
    "    mode = stats.mode(scores)[0]\n",
    "    return [1 if s == mode else 0 for s in scores]\n",
    "\n",
    "def plot_scores(idx, modifier=None):\n",
    "    scores = video_data['scores'][idx]\n",
    "    if modifier is not None:\n",
    "        scores = modifier(scores)\n",
    "    sns.barplot(x=list(range(len(scores)))[::16], y=scores[::16])\n",
    "\n",
    "TMP_PATH = 'data/tmp/'\n",
    "FRAMES_PATH = 'data/frames/'\n",
    "\n",
    "    \n",
    "def save(idx, modifier=None):\n",
    "    \n",
    "    scores = video_data['scores'][idx]\n",
    "    \n",
    "    if modifier is not None:\n",
    "        scores = modifier(scores)\n",
    "    else:\n",
    "        scores = video_data['bscores'][idx]\n",
    "\n",
    "    video = video_data['video_names'][idx]\n",
    "    video_name = video.replace(' ', '_') + '.mp4'\n",
    "    \n",
    "    os.system(\"mkdir -p {}\".format(TMP_PATH))\n",
    "    \n",
    "    \n",
    "\n",
    "def save_all_styles(idx, modifiers=[]):\n",
    "\n",
    "    save(idx)\n",
    "    for modifier in modifiers:\n",
    "        save(idx, modifier)\n",
    "\n",
    "def save_all_summaries(indexes, modifiers=[]):\n",
    "    \n",
    "    for idx in indexes:\n",
    "        save_all_styles(idx, modifiers)\n",
    "\n",
    "video_data = load_obj('video_data')"
   ]
  },
  {
   "cell_type": "code",
   "execution_count": 10,
   "metadata": {},
   "outputs": [],
   "source": [
    "save(8)"
   ]
  },
  {
   "cell_type": "code",
   "execution_count": null,
   "metadata": {},
   "outputs": [],
   "source": [
    "save_all_summaries(range(25), [greaterthan_mean, lowerthan_mean, mode])"
   ]
  }
 ],
 "metadata": {
  "kernelspec": {
   "display_name": "Python 2",
   "language": "python",
   "name": "python2"
  },
  "language_info": {
   "codemirror_mode": {
    "name": "ipython",
    "version": 2
   },
   "file_extension": ".py",
   "mimetype": "text/x-python",
   "name": "python",
   "nbconvert_exporter": "python",
   "pygments_lexer": "ipython2",
   "version": "2.7.15"
  }
 },
 "nbformat": 4,
 "nbformat_minor": 2
}
