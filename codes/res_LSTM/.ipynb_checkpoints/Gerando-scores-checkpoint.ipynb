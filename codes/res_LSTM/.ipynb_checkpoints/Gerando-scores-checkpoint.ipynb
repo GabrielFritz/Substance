{
 "cells": [
  {
   "cell_type": "code",
   "execution_count": 1,
   "metadata": {},
   "outputs": [
    {
     "ename": "UnicodeDecodeError",
     "evalue": "'ascii' codec can't decode byte 0xf5 in position 0: ordinal not in range(128)",
     "output_type": "error",
     "traceback": [
      "\u001b[0;31m---------------------------------------------------------------------------\u001b[0m",
      "\u001b[0;31mUnicodeDecodeError\u001b[0m                        Traceback (most recent call last)",
      "\u001b[0;32m<ipython-input-1-a401a568bf7b>\u001b[0m in \u001b[0;36m<module>\u001b[0;34m\u001b[0m\n\u001b[1;32m     78\u001b[0m             \u001b[0msave_all_styles\u001b[0m\u001b[0;34m(\u001b[0m\u001b[0midx\u001b[0m\u001b[0;34m,\u001b[0m \u001b[0mmodifiers\u001b[0m\u001b[0;34m)\u001b[0m\u001b[0;34m\u001b[0m\u001b[0;34m\u001b[0m\u001b[0m\n\u001b[1;32m     79\u001b[0m \u001b[0;34m\u001b[0m\u001b[0m\n\u001b[0;32m---> 80\u001b[0;31m \u001b[0mvideo_data\u001b[0m \u001b[0;34m=\u001b[0m \u001b[0mload_obj\u001b[0m\u001b[0;34m(\u001b[0m\u001b[0;34m'video_data'\u001b[0m\u001b[0;34m)\u001b[0m\u001b[0;34m\u001b[0m\u001b[0;34m\u001b[0m\u001b[0m\n\u001b[0m",
      "\u001b[0;32m<ipython-input-1-a401a568bf7b>\u001b[0m in \u001b[0;36mload_obj\u001b[0;34m(name)\u001b[0m\n\u001b[1;32m     15\u001b[0m \u001b[0;32mdef\u001b[0m \u001b[0mload_obj\u001b[0m\u001b[0;34m(\u001b[0m\u001b[0mname\u001b[0m \u001b[0;34m)\u001b[0m\u001b[0;34m:\u001b[0m\u001b[0;34m\u001b[0m\u001b[0;34m\u001b[0m\u001b[0m\n\u001b[1;32m     16\u001b[0m     \u001b[0;32mwith\u001b[0m \u001b[0mopen\u001b[0m\u001b[0;34m(\u001b[0m\u001b[0mPKL_OBJ_PATH\u001b[0m \u001b[0;34m+\u001b[0m \u001b[0mname\u001b[0m \u001b[0;34m+\u001b[0m \u001b[0;34m'.pkl'\u001b[0m\u001b[0;34m,\u001b[0m \u001b[0;34m'rb'\u001b[0m\u001b[0;34m)\u001b[0m \u001b[0;32mas\u001b[0m \u001b[0mf\u001b[0m\u001b[0;34m:\u001b[0m\u001b[0;34m\u001b[0m\u001b[0;34m\u001b[0m\u001b[0m\n\u001b[0;32m---> 17\u001b[0;31m         \u001b[0;32mreturn\u001b[0m \u001b[0mpickle\u001b[0m\u001b[0;34m.\u001b[0m\u001b[0mload\u001b[0m\u001b[0;34m(\u001b[0m\u001b[0mf\u001b[0m\u001b[0;34m)\u001b[0m\u001b[0;34m\u001b[0m\u001b[0;34m\u001b[0m\u001b[0m\n\u001b[0m\u001b[1;32m     18\u001b[0m \u001b[0;34m\u001b[0m\u001b[0m\n\u001b[1;32m     19\u001b[0m \u001b[0;32mdef\u001b[0m \u001b[0mgreaterthan_mean\u001b[0m\u001b[0;34m(\u001b[0m\u001b[0mscores\u001b[0m\u001b[0;34m)\u001b[0m\u001b[0;34m:\u001b[0m\u001b[0;34m\u001b[0m\u001b[0;34m\u001b[0m\u001b[0m\n",
      "\u001b[0;31mUnicodeDecodeError\u001b[0m: 'ascii' codec can't decode byte 0xf5 in position 0: ordinal not in range(128)"
     ]
    }
   ],
   "source": [
    "import numpy as np\n",
    "from scipy import stats\n",
    "import pickle\n",
    "import seaborn as sns\n",
    "import os\n",
    "%matplotlib inline\n",
    "\n",
    "PKL_OBJ_PATH = 'data/obj/'\n",
    "os.system('mkdir -p {}'.format(PKL_OBJ_PATH))\n",
    "\n",
    "def save_obj(obj, name ):\n",
    "    with open(PKL_OBJ_PATH+ name + '.pkl', 'wb') as f:\n",
    "        pickle.dump(obj, f, pickle.HIGHEST_PROTOCOL)\n",
    "\n",
    "def load_obj(name ):\n",
    "    with open(PKL_OBJ_PATH + name + '.pkl', 'rb') as f:\n",
    "        return pickle.load(f)\n",
    "\n",
    "def greaterthan_mean(scores):\n",
    "    mean = np.mean(scores)\n",
    "    return [1 if s > mean else 0 for s in scores]\n",
    "\n",
    "def lowerthan_mean(scores):\n",
    "    mean = np.mean(scores)\n",
    "    return [0 if s > mean else 1 for s in scores]\n",
    "\n",
    "def mode(scores):\n",
    "    mode = stats.mode(scores)[0]\n",
    "    return [1 if s == mode else 0 for s in scores]\n",
    "\n",
    "def plot_scores(idx, modifier=None):\n",
    "    scores = video_data['scores'][idx]\n",
    "    if modifier is not None:\n",
    "        scores = modifier(scores)\n",
    "    sns.barplot(x=list(range(len(scores)))[::16], y=scores[::16])\n",
    "\n",
    "TMP_PATH = 'data/tmp/'\n",
    "FRAMES_PATH = 'data/frames/'\n",
    "\n",
    "    \n",
    "def save(idx, modifier=None):\n",
    "    \n",
    "    scores = video_data['scores'][idx]\n",
    "    \n",
    "    if modifier is not None:\n",
    "        scores = modifier(scores)\n",
    "    else:\n",
    "        scores = video_data['bscores'][idx]\n",
    "\n",
    "    video = video_data['video_names'][idx]\n",
    "    video_name = video.replace(' ', '_') + '.mp4'\n",
    "    os.system(\"mkdir -p {}\".format(TMP_PATH))\n",
    "    \n",
    "    frames_path = '{}{}'.format(FRAMES_PATH, video_name)\n",
    "    \n",
    "    count = 1\n",
    "    for i, score in enumerate(scores):\n",
    "        if score == 1:\n",
    "            os.system(\"cp {}/{}-frame-{:04d}.jpg {}/{}-frame-{:04d}.jpg\".format(frames_path, video_name,i+1, TMP_PATH, video_name, count))\n",
    "            count+=1\n",
    "    \n",
    "    os.system(\"mkdir -p {}\".format(video_name))\n",
    "    ffmpeg = \"ffmpeg -r 30 -i {}/{}-frame-%04d.jpg -vcodec mpeg4 -y {}/{}.mp4\".format(TMP_PATH, video_name, video_name, modifier.__name__ if modifier is not None else 'kezhang')\n",
    "    os.system(ffmpeg)\n",
    "    os.system(\"rm -rf {}\".format(TMP_PATH))\n",
    "\n",
    "def save_all_styles(idx, modifiers=[]):\n",
    "\n",
    "    save(idx)\n",
    "    for modifier in modifiers:\n",
    "        save(idx, modifier)\n",
    "\n",
    "def save_all_summaries(indexes, modifiers=[]):\n",
    "    \n",
    "    for idx in indexes:\n",
    "        video_name = video_data['video_names'][idx]\n",
    "        if '[NW]' not in video_name:\n",
    "            save_all_styles(idx, modifiers)\n",
    "\n",
    "video_data = load_obj('video_data')"
   ]
  },
  {
   "cell_type": "code",
   "execution_count": 8,
   "metadata": {},
   "outputs": [],
   "source": [
    "save_all_summaries(range(25), [greaterthan_mean, lowerthan_mean, mode])"
   ]
  },
  {
   "cell_type": "code",
   "execution_count": null,
   "metadata": {},
   "outputs": [],
   "source": []
  }
 ],
 "metadata": {
  "kernelspec": {
   "display_name": "Python 3",
   "language": "python",
   "name": "python3"
  },
  "language_info": {
   "codemirror_mode": {
    "name": "ipython",
    "version": 3
   },
   "file_extension": ".py",
   "mimetype": "text/x-python",
   "name": "python",
   "nbconvert_exporter": "python",
   "pygments_lexer": "ipython3",
   "version": "3.7.1"
  }
 },
 "nbformat": 4,
 "nbformat_minor": 2
}
